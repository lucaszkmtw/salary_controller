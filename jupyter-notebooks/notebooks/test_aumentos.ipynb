{
 "cells": [
  {
   "cell_type": "code",
   "execution_count": null,
   "source": [
    "from django.db.models import Q\n",
    "from aumentos.models import Proyecto, Movimiento, Aumento\n",
    "from hiscar.models import Hiscar\n",
    "from django.contrib.auth.models import User\n",
    "from django.utils.timezone import now\n"
   ],
   "outputs": [],
   "metadata": {}
  },
  {
   "cell_type": "code",
   "execution_count": null,
   "source": [
    "try:\n",
    "    import sqlparse\n",
    "except:\n",
    "    !pip install sqlparse\n",
    "    import sqlparse"
   ],
   "outputs": [],
   "metadata": {}
  },
  {
   "cell_type": "code",
   "execution_count": null,
   "source": [
    "user = User.objects.get(id=1)\n",
    "#Todos los proyetos\n",
    "ps = Proyecto.objects.all()\n",
    "ps_ids = [p.id for p in ps]\n",
    "\n",
    "#Todos los movimientos de esos proyectos\n",
    "ms = Movimiento.objects.filter(proyecto_id__in=ps_ids).order_by('orden')\n",
    "ms_ids = [m.id for m in ms]\n",
    "\n",
    "#Todos los aumentos de esos movimientos\n",
    "as_ = Aumento.objects.filter(movimiento_id__in=ms_ids).order_by('orden')\n",
    "\n",
    "as_ids = [a.id for a in as_]\n",
    "Hiscar.objects.filter(aumento_id__in=as_ids).delete()\n",
    "#Los periodos y reparticion de esos movimientos\n",
    "prs = [(m.periodo_dd, m.periodo_ht, m.reparticion.codigo) for m in ms]\n",
    "\n",
    "#Hiscars de las reparticiones en los periodos de los movimientos\n",
    "q = Q()\n",
    "for pr in prs:\n",
    "    q.add(Q(periodo__gte=pr[0], periodo__lte=pr[1], reparticion=pr[2]), Q.OR)\n",
    "h = Hiscar.objects.\\\n",
    "    filter(\n",
    "        q,\n",
    "        archivo__isnull=False).\\\n",
    "    order_by(\n",
    "        'periodo',\n",
    "        'reparticion',\n",
    "        'cargo').\\\n",
    "    all()\n",
    "# FIXME Aplciar solo el ultimo y hacer un for \n",
    "# Aplicar aumentos\n",
    "for m in ms:\n",
    "    fh = int(m.proyecto.fecha_hiscar.strftime (\"%Y%m\"))\n",
    "    print(m.descripcion, m.periodo_dd, m.periodo_ht)\n",
    "    hiscars = h.filter(periodo=m.periodo_dd)\n",
    "    for aumento in as_.filter(movimiento=m):\n",
    "        # Hiscars con las que voy a trabajar\n",
    "        hiscar = hiscars.filter(aumento._get_hiscars_filter())\n",
    "        # Prints de las querys para debuggear\n",
    "        print('aumento modo ' ,aumento.modo_aumento())\n",
    "        print('-'*30)\n",
    "        query_str = sqlparse.split(str(hiscar.query))\n",
    "        for st in query_str:\n",
    "            print(sqlparse.format(st, reindent=True, keyword_case='upper'))\n",
    "        print('-'*30)\n",
    "        hiscar_aumentos = []\n",
    "        #Aplico aumentos a cada hiscar.\n",
    "        for hisc in hiscar:\n",
    "            sueldo = float(getattr(hisc, aumento.tipo_aumento.nombre))\n",
    "            if aumento.tipo_calculo == 'Porcentaje':\n",
    "                monto_aumento = sueldo * float(aumento.valor) / 100\n",
    "            else:\n",
    "                monto_aumento = float(aumento.valor)\n",
    "            nuevo_sueldo = sueldo + monto_aumento\n",
    "            setattr(hisc, aumento.tipo_aumento.nombre, nuevo_sueldo)\n",
    "            \n",
    "            hisc.pk = None\n",
    "            hisc.archivo = None\n",
    "            hisc.periodo = 0\n",
    "            hisc.aumento = aumento\n",
    "            hiscar_aumentos.append(hisc)\n",
    "            print(hisc.periodo, hisc.reparticion + hisc.cargo,'$', sueldo,  '===> $', nuevo_sueldo, '+ $', monto_aumento)\n",
    "        Hiscar.objects.bulk_create(hiscar_aumentos)\n"
   ],
   "outputs": [],
   "metadata": {
    "tags": []
   }
  },
  {
   "cell_type": "code",
   "execution_count": null,
   "source": [],
   "outputs": [],
   "metadata": {}
  }
 ],
 "metadata": {
  "kernelspec": {
   "name": "python3",
   "display_name": "Python 3.8.10 64-bit ('venv': venv)"
  },
  "language_info": {
   "name": "python",
   "version": "3.8.10"
  },
  "interpreter": {
   "hash": "e2b7044e4aed8785463a57d942bbbaf01c3ca3ffd999a6ef708ed68248676c63"
  }
 },
 "nbformat": 4,
 "nbformat_minor": 5
}