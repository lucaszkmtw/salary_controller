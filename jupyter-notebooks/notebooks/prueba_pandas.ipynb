{
 "cells": [
  {
   "cell_type": "code",
   "execution_count": 29,
   "source": [
    "import pandas as pd\n",
    "!pip install matplotlib\n",
    "import matplotlib.pyplot as plt"
   ],
   "outputs": [
    {
     "output_type": "stream",
     "name": "stdout",
     "text": [
      "WARNING: The directory '/home/jovyan/.cache/pip' or its parent directory is not owned or is not writable by the current user. The cache has been disabled. Check the permissions and owner of that directory. If executing pip with sudo, you should use sudo's -H flag.\n",
      "Requirement already satisfied: matplotlib in /opt/conda/lib/python3.9/site-packages (3.4.3)\n",
      "Requirement already satisfied: pillow>=6.2.0 in /opt/conda/lib/python3.9/site-packages (from matplotlib) (8.3.2)\n",
      "Requirement already satisfied: numpy>=1.16 in /opt/conda/lib/python3.9/site-packages (from matplotlib) (1.20.3)\n",
      "Requirement already satisfied: pyparsing>=2.2.1 in /opt/conda/lib/python3.9/site-packages (from matplotlib) (2.4.7)\n",
      "Requirement already satisfied: python-dateutil>=2.7 in /opt/conda/lib/python3.9/site-packages (from matplotlib) (2.8.2)\n",
      "Requirement already satisfied: kiwisolver>=1.0.1 in /opt/conda/lib/python3.9/site-packages (from matplotlib) (1.3.2)\n",
      "Requirement already satisfied: cycler>=0.10 in /opt/conda/lib/python3.9/site-packages (from matplotlib) (0.10.0)\n",
      "Requirement already satisfied: six in /opt/conda/lib/python3.9/site-packages (from cycler>=0.10->matplotlib) (1.15.0)\n"
     ]
    }
   ],
   "metadata": {}
  },
  {
   "cell_type": "code",
   "execution_count": 102,
   "source": [
    "import datetime\n",
    "\n",
    "from hiscar.models import Hiscar\n",
    "from hiscar.models import Reparticion"
   ],
   "outputs": [],
   "metadata": {}
  },
  {
   "cell_type": "code",
   "execution_count": 105,
   "source": [
    "DATE_FORMAT = \"%Y-%m-%d\"\n",
    "\n",
    "reparticiones = Reparticion.objects.filter(codigo__startswith='M1')\n",
    "\n",
    "periodo_dd = datetime.datetime.strptime(\"2000-01-01\", DATE_FORMAT).date()\n",
    "periodo_ht = datetime.datetime.strptime(\"2021-05-01\", DATE_FORMAT).date()\n",
    "\n",
    "hiscar = Hiscar.objects.filter(\n",
    "    reparticion_obj_id__in=[r.id for r in reparticiones],\n",
    "    periodo__range=[periodo_dd, periodo_ht],\n",
    "    cargo__startswith='S252'\n",
    ")\\\n",
    ".order_by('periodo')\\\n",
    ".values(\n",
    "    'periodo',\n",
    "    'basico',\n",
    "    'suplemento1',\n",
    "    'suplemento2',\n",
    "    'sumafija1',\n",
    "    'sumafija2',\n",
    ")\n",
    "\n",
    "hiscar = [h for h in hiscar]\n",
    "\n",
    "\n",
    "date_range =  [h['periodo'] for h in hiscar]\n",
    "\n",
    "hiscar_df = pd.DataFrame(\n",
    "    hiscar,\n",
    "    columns=[\n",
    "        'periodo',\n",
    "        'basico',\n",
    "        'suplemento1',\n",
    "        'suplemento2',\n",
    "        'sumafija1',\n",
    "        'sumafija2'\n",
    "    ],\n",
    "    index=date_range\n",
    ")\n",
    "\n",
    "\n",
    "hiscar_df.to_numpy()\n",
    "\n",
    "plt.plot(hiscar_df['basico'])\n",
    "plt.plot(hiscar_df['suplemento1'])\n",
    "plt.plot(hiscar_df['suplemento2'])\n",
    "plt.plot(hiscar_df['sumafija1'])\n",
    "#plt.plot(hiscar_df['sumafija2'])\n",
    "\n",
    "plt.legend(['basico', 'suplemento1', 'suplemento2', 'sumafija1', 'sumafija2'])\n",
    "\n",
    "plt.show()\n",
    "\n"
   ],
   "outputs": [
    {
     "output_type": "display_data",
     "data": {
      "image/png": "[encoded data removed]",
      "text/plain": [
       "<Figure size 432x288 with 1 Axes>"
      ]
     },
     "metadata": {
      "needs_background": "light"
     }
    }
   ],
   "metadata": {}
  }
 ],
 "metadata": {
  "orig_nbformat": 4,
  "kernelspec": {
   "name": "django_extensions",
   "display_name": "Django Shell-Plus",
   "language": "python"
  },
  "interpreter": {
   "hash": "a55458826bf4206e00c210c52fbd0ab025fbbeb069f8cbe1482e79ae3bb8d3c1"
  }
 },
 "nbformat": 4,
 "nbformat_minor": 2
}